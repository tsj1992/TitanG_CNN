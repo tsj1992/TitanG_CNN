{
 "cells": [
  {
   "cell_type": "code",
   "execution_count": 1,
   "metadata": {},
   "outputs": [],
   "source": [
    "import numpy as np\n",
    "import matplotlib.pyplot as plt\n",
    "import os\n",
    "import cv2\n",
    "\n",
    "DATA_DIR_TRAIN = \"D:/MSc/Semester 2/Neural Networks/GA/MyOwn/data/train\"\n",
    "DATA_DIR_TEST = \"D:/MSc/Semester 2/Neural Networks/GA/MyOwn/data/test\"\n",
    "\n",
    "CATEGORIES = [\n",
    "    \"Black-grass\",\n",
    "    \"Charlock\",\n",
    "    \"Cleavers\",\n",
    "    \"Common Chickweed\",\n",
    "    \"Common wheat\",\n",
    "    \"Fat Hen\",\n",
    "    \"Loose Silky-bent\",\n",
    "    \"Maize\",\n",
    "    \"Scentless Mayweed\",\n",
    "    \"Shepherds Purse\",\n",
    "    \"Small-flowered Cranesbill\",\n",
    "    \"Sugar beet\"\n",
    "]"
   ]
  },
  {
   "cell_type": "markdown",
   "metadata": {},
   "source": []
  }
 ],
 "metadata": {
  "kernelspec": {
   "display_name": "Python 3.7 (tensorflow-gpu-1-13)",
   "language": "python",
   "name": "tensorflow-gpu-1-13"
  },
  "language_info": {
   "codemirror_mode": {
    "name": "ipython",
    "version": 3
   },
   "file_extension": ".py",
   "mimetype": "text/x-python",
   "name": "python",
   "nbconvert_exporter": "python",
   "pygments_lexer": "ipython3",
   "version": "3.7.7"
  }
 },
 "nbformat": 4,
 "nbformat_minor": 4
}
